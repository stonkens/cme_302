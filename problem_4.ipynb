{
 "cells": [
  {
   "cell_type": "code",
   "execution_count": 115,
   "metadata": {},
   "outputs": [],
   "source": [
    "using Random\n",
    "using Printf\n",
    "using LinearAlgebra\n",
    "\n",
    "# Initialize the random number generator\n",
    "rng = MersenneTwister(2018)\n",
    "\n",
    "# Your answer is implemented in this file\n",
    "include(\"rook_pivoting.jl\")\n",
    ";"
   ]
  },
  {
   "cell_type": "markdown",
   "metadata": {},
   "source": [
    "### Initialization"
   ]
  },
  {
   "cell_type": "code",
   "execution_count": 116,
   "metadata": {},
   "outputs": [],
   "source": [
    "n = 64 # Size of matrix\n",
    "r = 32 # Rank\n",
    "\n",
    "A = rand(rng,n,n)\n",
    "\n",
    "F = lu(A)    # LU factorization\n",
    "L = F.L      # Lower triangular part\n",
    "U = F.U      # Upper triangular part\n",
    "L = L[:,1:r] # Keep the first r columns\n",
    "U = U[1:r,:] # Keep the first r rows\n",
    "\n",
    "# You can replace this by equivalent Matlab/Python code\n",
    "\n",
    "A = L*U      # Rank r matrix\n",
    "A0 = copy(A) # Save a copy\n",
    ";"
   ]
  },
  {
   "cell_type": "markdown",
   "metadata": {},
   "source": [
    "### Factorization"
   ]
  },
  {
   "cell_type": "code",
   "execution_count": 117,
   "metadata": {},
   "outputs": [],
   "source": [
    "# Calling your factorization algorithm\n",
    "P_row, P_col = getrfRook!(A0)\n",
    "\n",
    "# Rook pivoting LU:\n",
    "# function getrfRook!\n",
    "# Input: matrix A0\n",
    "# Ouput: returns the row and column permutations\n",
    "# The L and U factors are stored in the lower and upper triangular parts of A0\n",
    ";"
   ]
  },
  {
   "cell_type": "markdown",
   "metadata": {},
   "source": [
    "### Test"
   ]
  },
  {
   "cell_type": "code",
   "execution_count": 118,
   "metadata": {},
   "outputs": [
    {
     "name": "stdout",
     "output_type": "stream",
     "text": [
      "The error is 3.52247e-14"
     ]
    },
    {
     "data": {
      "text/plain": [
       "\"PASS\""
      ]
     },
     "execution_count": 118,
     "metadata": {},
     "output_type": "execute_result"
    }
   ],
   "source": [
    "L0 = UniformScaling(1.0) + tril(A0,-1) # Extract L matrix\n",
    "U0 = triu(A0) # Extract U matrix\n",
    "\n",
    "L = zeros(n,r)\n",
    "for i=1:n\n",
    "    L[P_row[i],:] = L0[i,1:r] # Undo the row permutations\n",
    "end\n",
    "\n",
    "U = zeros(r,n)\n",
    "for j=1:n\n",
    "    U[:,P_col[j]] = U0[1:r,j] # Undo the column permutations\n",
    "end\n",
    "\n",
    "err = norm(L*U - A)\n",
    "@printf \"The error is %g\" err # Test the accuracy\n",
    "err < 1e-13 ? \"PASS\" : \"FAIL\""
   ]
  }
 ],
 "metadata": {
  "kernelspec": {
   "display_name": "Julia 1.0.0",
   "language": "julia",
   "name": "julia-1.0"
  },
  "language_info": {
   "file_extension": ".jl",
   "mimetype": "application/julia",
   "name": "julia",
   "version": "1.0.0"
  }
 },
 "nbformat": 4,
 "nbformat_minor": 1
}
